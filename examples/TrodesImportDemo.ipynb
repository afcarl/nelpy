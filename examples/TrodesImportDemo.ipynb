{
 "cells": [
  {
   "cell_type": "markdown",
   "metadata": {},
   "source": [
    "# Introduction to Trodes data import into `nelpy` "
   ]
  },
  {
   "cell_type": "markdown",
   "metadata": {},
   "source": [
    "<div class=\"alert alert-info\">\n",
    "<b>What is Trodes and what is supported by nelpy? </b>\n",
    "</div>\n",
    "[Trodes](http://spikegadgets.com/software/trodes.html) is \n",
    "> an open source, cross-platform software suite for neuroscience data acquisition and experimental control. If you use this to record data, the real joke is yourself. Mattias advises against it.\n",
    "\n",
    "Importing some data from Trodes post recording from the Trodes data-type saved .rec file directly into `nelpy` is supported within the trodes.py file under the io portion of `nelpy`. In particular the data from the .recs that can be imported into `nelpy` include the following:\n",
    "- Wide-band (or subsampled) ephys waveforms\n",
    "- Auxiliary channels (as of right now only digital inputs and outputs are importable)\n",
    "- Spike waveform snippits as determined within Trodes\n",
    "\n",
    "Support is currently being expanded to support:\n",
    "- Video frames and timestamp coordination\n",
    "- Other auxiliary channels such as analog inputs/outputs, accelerometer data\n",
    "- Other stuff (exciting and ambiguous!)\n",
    "\n",
    "<br><div class=\"alert alert-info\">\n",
    "<b>How does it work?</b>\n",
    "</div>\n",
    "The `nelpy` import code relies heavily on modified versions of exportLFP, exportdio, exportspikes, etc. (essentially the Export functionality provided in the Trodes C++ code but I have modified them to take in added parameters). As such, my modifications to the Trodes export functions have been provided under the [resources folder on the `nelpy` github](https://github.com/eackermann/nelpy/tree/feature/TrodesImport/resources). BUT we will move away from this and just have pure Python implementations soon!"
   ]
  },
  {
   "cell_type": "code",
   "execution_count": 1,
   "metadata": {
    "collapsed": false
   },
   "outputs": [],
   "source": [
    "import numpy as np\n",
    "from scipy import interpolate\n",
    "import matplotlib as mpl\n",
    "import matplotlib.pyplot as plt\n",
    "import scipy.io\n",
    "import sys\n",
    "\n",
    "import nelpy as nel  # recommended import for nelpy\n",
    "import nelpy.plotting as npl  # recommended import for the nelpy plotting library\n",
    "import nelpy.io.trodes as neltro\n",
    "\n",
    "%matplotlib inline\n",
    "npl.setup()\n",
    "npl.set_palette(npl.colors.cows)\n",
    "npl.setup(font='Universalis ADF Cd Std', font_scale=2, palette=npl.colors.cows, style='white',\\\n",
    "         rc=({'figure.figsize': (12, 6), 'font.size': 18, 'axes.labelsize': 25, \\\n",
    "             'axes.titlesize':33, 'legend.fontsize': 20, 'ytick.labelsize': 20, 'xtick.labelsize': 20}))"
   ]
  },
  {
   "cell_type": "markdown",
   "metadata": {},
   "source": [
    "# Importing Wide-Band LFP data"
   ]
  },
  {
   "cell_type": "markdown",
   "metadata": {},
   "source": [
    "## Get tetrodes and channels"
   ]
  },
  {
   "cell_type": "code",
   "execution_count": 2,
   "metadata": {
    "collapsed": false
   },
   "outputs": [
    {
     "name": "stdout",
     "output_type": "stream",
     "text": [
      "Tetrodes:  [ 1  1  1  1  2  2  2  2  3  3  3  3  4  4  4  4  5  5  5  5  6  6  6  6  7\n",
      "  7  7  7  8  8  8  8  9  9  9  9 10 10 10 10 11 11 11 11 12 12 12 12 13 13\n",
      " 13 13 14 14 14 14 15 15 15 15 16 16 16 16 17 17 17 17 18 18 18 18 19 19 19\n",
      " 19 20 20 20 20]\n",
      "Channels:  [1 2 3 4 1 2 3 4 1 2 3 4 1 2 3 4 1 2 3 4 1 2 3 4 1 2 3 4 1 2 3 4 1 2 3 4 1\n",
      " 2 3 4 1 2 3 4 1 2 3 4 1 2 3 4 1 2 3 4 1 2 3 4 1 2 3 4 1 2 3 4 1 2 3 4 1 2\n",
      " 3 4 1 2 3 4]\n"
     ]
    }
   ],
   "source": [
    "tetrodes, channels = neltro.load_tetrode_channel_nums(\"/media/shayok/3TBData/Data/JChuTru/Install/Experiments/unthethered/06-30-2017/install_06-30-2017_00_09_56_merge_sd11.rec\",\\\n",
    "                                 verbose = True)"
   ]
  },
  {
   "cell_type": "markdown",
   "metadata": {},
   "source": [
    "<br><div class=\"alert alert-info\">\n",
    "Above is not necessary unless you're loading up everything. On the other hand, if we wanted to disable particular channels from being loaded (e.g. I don't care about Tetrode 10 because it's in a different area of the brain that I'm using as reference or I don't care about tetrode 11 because it's lost, I can disable it like below), that is when this function comes handy as in the example below. \n",
    "</div>"
   ]
  },
  {
   "cell_type": "code",
   "execution_count": 3,
   "metadata": {
    "collapsed": false
   },
   "outputs": [
    {
     "name": "stdout",
     "output_type": "stream",
     "text": [
      "Disabling Tetrode 10 \n",
      "Disabling Tetrode 11 \n",
      "Tetrodes:  [ 1  1  1  1  2  2  2  2  3  3  3  3  4  4  4  4  5  5  5  5  6  6  6  6  7\n",
      "  7  7  7  8  8  8  8  9  9  9  9 12 12 12 12 13 13 13 13 14 14 14 14 15 15\n",
      " 15 15 16 16 16 16 17 17 17 17 18 18 18 18 19 19 19 19 20 20 20 20]\n",
      "Channels:  [1 2 3 4 1 2 3 4 1 2 3 4 1 2 3 4 1 2 3 4 1 2 3 4 1 2 3 4 1 2 3 4 1 2 3 4 1\n",
      " 2 3 4 1 2 3 4 1 2 3 4 1 2 3 4 1 2 3 4 1 2 3 4 1 2 3 4 1 2 3 4 1 2 3 4]\n"
     ]
    }
   ],
   "source": [
    "tetrodes, channels = neltro.load_tetrode_channel_nums(\"/media/shayok/3TBData/Data/JChuTru/Install/Experiments/unthethered/06-30-2017/install_06-30-2017_00_09_56_merge_sd11.rec\",\\\n",
    "                                                      disable_tetrodes = [10,11],verbose = True)"
   ]
  },
  {
   "cell_type": "markdown",
   "metadata": {},
   "source": [
    "<br><div class=\"alert alert-info\">\n",
    "Also, we can disable specific channels that we don't want. E.g. say tetrode 3 accidentally has one of it's channels messed up for some reason so we can disable particular channels from being loaded up. In the example below we remove tetrode 3 channel 2 and tetrode 4 channel 1.\n",
    "</div>"
   ]
  },
  {
   "cell_type": "code",
   "execution_count": 4,
   "metadata": {
    "collapsed": false
   },
   "outputs": [
    {
     "name": "stdout",
     "output_type": "stream",
     "text": [
      "Disabling Tetrode 3 | Channel(s) [2]\n",
      "Disabling Tetrode 4 | Channel(s) [1]\n",
      "Tetrodes:  [ 1  1  1  1  2  2  2  2  3  3  3  4  4  4  5  5  5  5  6  6  6  6  7  7  7\n",
      "  7  8  8  8  8  9  9  9  9 10 10 10 10 11 11 11 11 12 12 12 12 13 13 13 13\n",
      " 14 14 14 14 15 15 15 15 16 16 16 16 17 17 17 17 18 18 18 18 19 19 19 19 20\n",
      " 20 20 20]\n",
      "Channels:  [1 2 3 4 1 2 3 4 1 3 4 2 3 4 1 2 3 4 1 2 3 4 1 2 3 4 1 2 3 4 1 2 3 4 1 2 3\n",
      " 4 1 2 3 4 1 2 3 4 1 2 3 4 1 2 3 4 1 2 3 4 1 2 3 4 1 2 3 4 1 2 3 4 1 2 3 4\n",
      " 1 2 3 4]\n"
     ]
    }
   ],
   "source": [
    "tetrodes, channels = neltro.load_tetrode_channel_nums(\"/media/shayok/3TBData/Data/JChuTru/Install/Experiments/unthethered/06-30-2017/install_06-30-2017_00_09_56_merge_sd11.rec\",\\\n",
    "                                                      disable_tetrodes = [3,4], disable_channels=[2,1],\\\n",
    "                                                      verbose = True)"
   ]
  },
  {
   "cell_type": "markdown",
   "metadata": {},
   "source": [
    "<br><div class=\"alert alert-success\">\n",
    "In conclusion, this function here should be used as a helper if you're trying to load up a large subset of the tetrodes and channels or else it's just easier typing them in as inputs to the tetrode and channel keyword arguments in loading functions shown in the subsection below.\n",
    "</div>"
   ]
  },
  {
   "cell_type": "markdown",
   "metadata": {},
   "source": [
    "## Begin imports into AnalogSignalArrays"
   ]
  },
  {
   "cell_type": "markdown",
   "metadata": {},
   "source": [
    "<br><div class=\"alert alert-info\">\n",
    "Quick example of how to load up all channels from all tetrodes from a recording session.\n",
    "</div>"
   ]
  },
  {
   "cell_type": "code",
   "execution_count": 2,
   "metadata": {
    "collapsed": false,
    "scrolled": true
   },
   "outputs": [
    {
     "name": "stdout",
     "output_type": "stream",
     "text": [
      "/home/shayok/Documents/Code/trodes/bin/exportLFP -rec \"/home/shayok/Documents/Code/RippleDetectionAnalysis/TingData/Kant_stimulation_two_channel14_5_27.rec\" -userefs \"0\" -everything \"1\"\n",
      "*****************Loading LFP Timestamps*****************\n",
      "b'<Start settings>\\n'\n",
      "b'Description: LFP timestamps\\n'\n",
      "b'Byte_order: little endian\\n'\n",
      "b'Original_file: Kant_stimulation_two_channel14_5_27.rec\\n'\n",
      "b'Clock rate: 30000\\n'\n",
      "b'Decimation: 1\\n'\n",
      "b'Time_offset: 0\\n'\n",
      "b'Fields: <time uint32>\\n'\n",
      "Current file position 210\n",
      "Done\n",
      "*****************Loading LFP Data*****************\n",
      "b'<Start settings>\\n'\n",
      "b'Description: LFP data for one channel\\n'\n",
      "b'Byte_order: little endian\\n'\n",
      "b'Original_file: Kant_stimulation_two_channel14_5_27.rec\\n'\n",
      "b'nTrode_ID: 1\\n'\n",
      "b'nTrode_channel: 1\\n'\n",
      "b'Clock rate: 30000\\n'\n",
      "b'Voltage_scaling: 0.195\\n'\n",
      "b'Decimation: 1\\n'\n",
      "b'First_timestamp: 4146660\\n'\n",
      "b'Reference: off\\n'\n",
      "b'Low_pass_filter: none\\n'\n",
      "b'Fields: <voltage int16>\\n'\n",
      "Current file position 323\n",
      "Done\n",
      "*****************Loading LFP Data*****************\n",
      "b'<Start settings>\\n'\n",
      "b'Description: LFP data for one channel\\n'\n",
      "b'Byte_order: little endian\\n'\n",
      "b'Original_file: Kant_stimulation_two_channel14_5_27.rec\\n'\n",
      "b'nTrode_ID: 1\\n'\n",
      "b'nTrode_channel: 2\\n'\n",
      "b'Clock rate: 30000\\n'\n",
      "b'Voltage_scaling: 0.195\\n'\n",
      "b'Decimation: 1\\n'\n",
      "b'First_timestamp: 4146660\\n'\n",
      "b'Reference: off\\n'\n",
      "b'Low_pass_filter: none\\n'\n",
      "b'Fields: <voltage int16>\\n'\n",
      "Current file position 323\n",
      "Done\n",
      "*****************Loading LFP Data*****************\n",
      "b'<Start settings>\\n'\n",
      "b'Description: LFP data for one channel\\n'\n",
      "b'Byte_order: little endian\\n'\n",
      "b'Original_file: Kant_stimulation_two_channel14_5_27.rec\\n'\n",
      "b'nTrode_ID: 1\\n'\n",
      "b'nTrode_channel: 3\\n'\n",
      "b'Clock rate: 30000\\n'\n",
      "b'Voltage_scaling: 0.195\\n'\n",
      "b'Decimation: 1\\n'\n",
      "b'First_timestamp: 4146660\\n'\n",
      "b'Reference: off\\n'\n",
      "b'Low_pass_filter: none\\n'\n",
      "b'Fields: <voltage int16>\\n'\n",
      "Current file position 323\n",
      "Done\n",
      "*****************Loading LFP Data*****************\n",
      "b'<Start settings>\\n'\n",
      "b'Description: LFP data for one channel\\n'\n",
      "b'Byte_order: little endian\\n'\n",
      "b'Original_file: Kant_stimulation_two_channel14_5_27.rec\\n'\n",
      "b'nTrode_ID: 1\\n'\n",
      "b'nTrode_channel: 4\\n'\n",
      "b'Clock rate: 30000\\n'\n",
      "b'Voltage_scaling: 0.195\\n'\n",
      "b'Decimation: 1\\n'\n",
      "b'First_timestamp: 4146660\\n'\n",
      "b'Reference: off\\n'\n",
      "b'Low_pass_filter: none\\n'\n",
      "b'Fields: <voltage int16>\\n'\n",
      "Current file position 323\n",
      "Done\n"
     ]
    },
    {
     "name": "stderr",
     "output_type": "stream",
     "text": [
      "/home/shayok/Documents/Code/nelpy/nelpy/core/_analogsignalarray.py:267: UserWarning: creating support from time and sampling rate, fs!\n"
     ]
    },
    {
     "name": "stdout",
     "output_type": "stream",
     "text": [
      "*****************Loading LFP Timestamps*****************\n",
      "b'<Start settings>\\n'\n",
      "b'Description: LFP timestamps\\n'\n",
      "b'Byte_order: little endian\\n'\n",
      "b'Original_file: Kant_stimulation_two_channel14_5_27.rec\\n'\n",
      "b'Clock rate: 30000\\n'\n",
      "b'Decimation: 1\\n'\n",
      "b'Time_offset: 0\\n'\n",
      "b'Fields: <time uint32>\\n'\n",
      "Current file position 210\n",
      "Done\n",
      "*****************Loading LFP Data*****************\n",
      "b'<Start settings>\\n'\n",
      "b'Description: LFP data for one channel\\n'\n",
      "b'Byte_order: little endian\\n'\n",
      "b'Original_file: Kant_stimulation_two_channel14_5_27.rec\\n'\n",
      "b'nTrode_ID: 2\\n'\n",
      "b'nTrode_channel: 1\\n'\n",
      "b'Clock rate: 30000\\n'\n",
      "b'Voltage_scaling: 0.195\\n'\n",
      "b'Decimation: 1\\n'\n",
      "b'First_timestamp: 4146660\\n'\n",
      "b'Reference: off\\n'\n",
      "b'Low_pass_filter: none\\n'\n",
      "b'Fields: <voltage int16>\\n'\n",
      "Current file position 323\n",
      "Done\n",
      "*****************Loading LFP Data*****************\n",
      "b'<Start settings>\\n'\n",
      "b'Description: LFP data for one channel\\n'\n",
      "b'Byte_order: little endian\\n'\n",
      "b'Original_file: Kant_stimulation_two_channel14_5_27.rec\\n'\n",
      "b'nTrode_ID: 2\\n'\n",
      "b'nTrode_channel: 2\\n'\n",
      "b'Clock rate: 30000\\n'\n",
      "b'Voltage_scaling: 0.195\\n'\n",
      "b'Decimation: 1\\n'\n",
      "b'First_timestamp: 4146660\\n'\n",
      "b'Reference: off\\n'\n",
      "b'Low_pass_filter: none\\n'\n",
      "b'Fields: <voltage int16>\\n'\n",
      "Current file position 323\n",
      "Done\n",
      "*****************Loading LFP Data*****************\n",
      "b'<Start settings>\\n'\n",
      "b'Description: LFP data for one channel\\n'\n",
      "b'Byte_order: little endian\\n'\n",
      "b'Original_file: Kant_stimulation_two_channel14_5_27.rec\\n'\n",
      "b'nTrode_ID: 2\\n'\n",
      "b'nTrode_channel: 3\\n'\n",
      "b'Clock rate: 30000\\n'\n",
      "b'Voltage_scaling: 0.195\\n'\n",
      "b'Decimation: 1\\n'\n",
      "b'First_timestamp: 4146660\\n'\n",
      "b'Reference: off\\n'\n",
      "b'Low_pass_filter: none\\n'\n",
      "b'Fields: <voltage int16>\\n'\n",
      "Current file position 323\n",
      "Done\n",
      "*****************Loading LFP Data*****************\n",
      "b'<Start settings>\\n'\n",
      "b'Description: LFP data for one channel\\n'\n",
      "b'Byte_order: little endian\\n'\n",
      "b'Original_file: Kant_stimulation_two_channel14_5_27.rec\\n'\n",
      "b'nTrode_ID: 2\\n'\n",
      "b'nTrode_channel: 4\\n'\n",
      "b'Clock rate: 30000\\n'\n",
      "b'Voltage_scaling: 0.195\\n'\n",
      "b'Decimation: 1\\n'\n",
      "b'First_timestamp: 4146660\\n'\n",
      "b'Reference: off\\n'\n",
      "b'Low_pass_filter: none\\n'\n",
      "b'Fields: <voltage int16>\\n'\n",
      "Current file position 323\n",
      "Done\n",
      "*****************Loading LFP Timestamps*****************\n",
      "b'<Start settings>\\n'\n",
      "b'Description: LFP timestamps\\n'\n",
      "b'Byte_order: little endian\\n'\n",
      "b'Original_file: Kant_stimulation_two_channel14_5_27.rec\\n'\n",
      "b'Clock rate: 30000\\n'\n",
      "b'Decimation: 1\\n'\n",
      "b'Time_offset: 0\\n'\n",
      "b'Fields: <time uint32>\\n'\n",
      "Current file position 210\n",
      "Done\n",
      "*****************Loading LFP Data*****************\n",
      "b'<Start settings>\\n'\n",
      "b'Description: LFP data for one channel\\n'\n",
      "b'Byte_order: little endian\\n'\n",
      "b'Original_file: Kant_stimulation_two_channel14_5_27.rec\\n'\n",
      "b'nTrode_ID: 3\\n'\n",
      "b'nTrode_channel: 1\\n'\n",
      "b'Clock rate: 30000\\n'\n",
      "b'Voltage_scaling: 0.195\\n'\n",
      "b'Decimation: 1\\n'\n",
      "b'First_timestamp: 4146660\\n'\n",
      "b'Reference: off\\n'\n",
      "b'Low_pass_filter: none\\n'\n",
      "b'Fields: <voltage int16>\\n'\n",
      "Current file position 323\n",
      "Done\n",
      "*****************Loading LFP Data*****************\n",
      "b'<Start settings>\\n'\n",
      "b'Description: LFP data for one channel\\n'\n",
      "b'Byte_order: little endian\\n'\n",
      "b'Original_file: Kant_stimulation_two_channel14_5_27.rec\\n'\n",
      "b'nTrode_ID: 3\\n'\n",
      "b'nTrode_channel: 2\\n'\n",
      "b'Clock rate: 30000\\n'\n",
      "b'Voltage_scaling: 0.195\\n'\n",
      "b'Decimation: 1\\n'\n",
      "b'First_timestamp: 4146660\\n'\n",
      "b'Reference: off\\n'\n",
      "b'Low_pass_filter: none\\n'\n",
      "b'Fields: <voltage int16>\\n'\n",
      "Current file position 323\n",
      "Done\n",
      "*****************Loading LFP Data*****************\n",
      "b'<Start settings>\\n'\n",
      "b'Description: LFP data for one channel\\n'\n",
      "b'Byte_order: little endian\\n'\n",
      "b'Original_file: Kant_stimulation_two_channel14_5_27.rec\\n'\n",
      "b'nTrode_ID: 3\\n'\n",
      "b'nTrode_channel: 3\\n'\n",
      "b'Clock rate: 30000\\n'\n",
      "b'Voltage_scaling: 0.195\\n'\n",
      "b'Decimation: 1\\n'\n",
      "b'First_timestamp: 4146660\\n'\n",
      "b'Reference: off\\n'\n",
      "b'Low_pass_filter: none\\n'\n",
      "b'Fields: <voltage int16>\\n'\n",
      "Current file position 323\n",
      "Done\n",
      "*****************Loading LFP Data*****************\n",
      "b'<Start settings>\\n'\n",
      "b'Description: LFP data for one channel\\n'\n",
      "b'Byte_order: little endian\\n'\n",
      "b'Original_file: Kant_stimulation_two_channel14_5_27.rec\\n'\n",
      "b'nTrode_ID: 3\\n'\n",
      "b'nTrode_channel: 4\\n'\n",
      "b'Clock rate: 30000\\n'\n",
      "b'Voltage_scaling: 0.195\\n'\n",
      "b'Decimation: 1\\n'\n",
      "b'First_timestamp: 4146660\\n'\n",
      "b'Reference: off\\n'\n",
      "b'Low_pass_filter: none\\n'\n",
      "b'Fields: <voltage int16>\\n'\n",
      "Current file position 323\n",
      "Done\n",
      "*****************Loading LFP Timestamps*****************\n",
      "b'<Start settings>\\n'\n",
      "b'Description: LFP timestamps\\n'\n",
      "b'Byte_order: little endian\\n'\n",
      "b'Original_file: Kant_stimulation_two_channel14_5_27.rec\\n'\n",
      "b'Clock rate: 30000\\n'\n",
      "b'Decimation: 1\\n'\n",
      "b'Time_offset: 0\\n'\n",
      "b'Fields: <time uint32>\\n'\n",
      "Current file position 210\n",
      "Done\n",
      "*****************Loading LFP Data*****************\n",
      "b'<Start settings>\\n'\n",
      "b'Description: LFP data for one channel\\n'\n",
      "b'Byte_order: little endian\\n'\n",
      "b'Original_file: Kant_stimulation_two_channel14_5_27.rec\\n'\n",
      "b'nTrode_ID: 4\\n'\n",
      "b'nTrode_channel: 1\\n'\n",
      "b'Clock rate: 30000\\n'\n",
      "b'Voltage_scaling: 0.195\\n'\n",
      "b'Decimation: 1\\n'\n",
      "b'First_timestamp: 4146660\\n'\n",
      "b'Reference: off\\n'\n",
      "b'Low_pass_filter: none\\n'\n",
      "b'Fields: <voltage int16>\\n'\n",
      "Current file position 323\n",
      "Done\n",
      "*****************Loading LFP Data*****************\n",
      "b'<Start settings>\\n'\n",
      "b'Description: LFP data for one channel\\n'\n",
      "b'Byte_order: little endian\\n'\n",
      "b'Original_file: Kant_stimulation_two_channel14_5_27.rec\\n'\n",
      "b'nTrode_ID: 4\\n'\n",
      "b'nTrode_channel: 2\\n'\n",
      "b'Clock rate: 30000\\n'\n",
      "b'Voltage_scaling: 0.195\\n'\n",
      "b'Decimation: 1\\n'\n",
      "b'First_timestamp: 4146660\\n'\n",
      "b'Reference: off\\n'\n",
      "b'Low_pass_filter: none\\n'\n",
      "b'Fields: <voltage int16>\\n'\n",
      "Current file position 323\n",
      "Done\n",
      "*****************Loading LFP Data*****************\n",
      "b'<Start settings>\\n'\n",
      "b'Description: LFP data for one channel\\n'\n",
      "b'Byte_order: little endian\\n'\n",
      "b'Original_file: Kant_stimulation_two_channel14_5_27.rec\\n'\n",
      "b'nTrode_ID: 4\\n'\n",
      "b'nTrode_channel: 3\\n'\n",
      "b'Clock rate: 30000\\n'\n",
      "b'Voltage_scaling: 0.195\\n'\n",
      "b'Decimation: 1\\n'\n",
      "b'First_timestamp: 4146660\\n'\n",
      "b'Reference: off\\n'\n",
      "b'Low_pass_filter: none\\n'\n",
      "b'Fields: <voltage int16>\\n'\n",
      "Current file position 323\n",
      "Done\n",
      "*****************Loading LFP Data*****************\n",
      "b'<Start settings>\\n'\n",
      "b'Description: LFP data for one channel\\n'\n",
      "b'Byte_order: little endian\\n'\n",
      "b'Original_file: Kant_stimulation_two_channel14_5_27.rec\\n'\n",
      "b'nTrode_ID: 4\\n'\n",
      "b'nTrode_channel: 4\\n'\n",
      "b'Clock rate: 30000\\n'\n",
      "b'Voltage_scaling: 0.195\\n'\n",
      "b'Decimation: 1\\n'\n",
      "b'First_timestamp: 4146660\\n'\n",
      "b'Reference: off\\n'\n",
      "b'Low_pass_filter: none\\n'\n",
      "b'Fields: <voltage int16>\\n'\n",
      "Current file position 323\n",
      "Done\n",
      "*****************Loading LFP Timestamps*****************\n",
      "b'<Start settings>\\n'\n",
      "b'Description: LFP timestamps\\n'\n",
      "b'Byte_order: little endian\\n'\n",
      "b'Original_file: Kant_stimulation_two_channel14_5_27.rec\\n'\n",
      "b'Clock rate: 30000\\n'\n",
      "b'Decimation: 1\\n'\n",
      "b'Time_offset: 0\\n'\n",
      "b'Fields: <time uint32>\\n'\n",
      "Current file position 210\n",
      "Done\n",
      "*****************Loading LFP Data*****************\n",
      "b'<Start settings>\\n'\n",
      "b'Description: LFP data for one channel\\n'\n",
      "b'Byte_order: little endian\\n'\n",
      "b'Original_file: Kant_stimulation_two_channel14_5_27.rec\\n'\n",
      "b'nTrode_ID: 5\\n'\n",
      "b'nTrode_channel: 1\\n'\n",
      "b'Clock rate: 30000\\n'\n",
      "b'Voltage_scaling: 0.195\\n'\n",
      "b'Decimation: 1\\n'\n",
      "b'First_timestamp: 4146660\\n'\n",
      "b'Reference: off\\n'\n",
      "b'Low_pass_filter: none\\n'\n",
      "b'Fields: <voltage int16>\\n'\n",
      "Current file position 323\n",
      "Done\n",
      "*****************Loading LFP Data*****************\n",
      "b'<Start settings>\\n'\n",
      "b'Description: LFP data for one channel\\n'\n",
      "b'Byte_order: little endian\\n'\n",
      "b'Original_file: Kant_stimulation_two_channel14_5_27.rec\\n'\n",
      "b'nTrode_ID: 5\\n'\n",
      "b'nTrode_channel: 2\\n'\n",
      "b'Clock rate: 30000\\n'\n",
      "b'Voltage_scaling: 0.195\\n'\n",
      "b'Decimation: 1\\n'\n",
      "b'First_timestamp: 4146660\\n'\n",
      "b'Reference: off\\n'\n",
      "b'Low_pass_filter: none\\n'\n",
      "b'Fields: <voltage int16>\\n'\n",
      "Current file position 323\n",
      "Done\n",
      "*****************Loading LFP Data*****************\n",
      "b'<Start settings>\\n'\n",
      "b'Description: LFP data for one channel\\n'\n",
      "b'Byte_order: little endian\\n'\n",
      "b'Original_file: Kant_stimulation_two_channel14_5_27.rec\\n'\n",
      "b'nTrode_ID: 5\\n'\n",
      "b'nTrode_channel: 3\\n'\n",
      "b'Clock rate: 30000\\n'\n",
      "b'Voltage_scaling: 0.195\\n'\n",
      "b'Decimation: 1\\n'\n",
      "b'First_timestamp: 4146660\\n'\n",
      "b'Reference: off\\n'\n",
      "b'Low_pass_filter: none\\n'\n",
      "b'Fields: <voltage int16>\\n'\n",
      "Current file position 323\n",
      "Done\n",
      "*****************Loading LFP Data*****************\n",
      "b'<Start settings>\\n'\n",
      "b'Description: LFP data for one channel\\n'\n",
      "b'Byte_order: little endian\\n'\n",
      "b'Original_file: Kant_stimulation_two_channel14_5_27.rec\\n'\n",
      "b'nTrode_ID: 5\\n'\n",
      "b'nTrode_channel: 4\\n'\n",
      "b'Clock rate: 30000\\n'\n",
      "b'Voltage_scaling: 0.195\\n'\n",
      "b'Decimation: 1\\n'\n",
      "b'First_timestamp: 4146660\\n'\n",
      "b'Reference: off\\n'\n",
      "b'Low_pass_filter: none\\n'\n",
      "b'Fields: <voltage int16>\\n'\n",
      "Current file position 323\n",
      "Done\n",
      "*****************Loading LFP Timestamps*****************\n",
      "b'<Start settings>\\n'\n",
      "b'Description: LFP timestamps\\n'\n",
      "b'Byte_order: little endian\\n'\n",
      "b'Original_file: Kant_stimulation_two_channel14_5_27.rec\\n'\n",
      "b'Clock rate: 30000\\n'\n",
      "b'Decimation: 1\\n'\n",
      "b'Time_offset: 0\\n'\n",
      "b'Fields: <time uint32>\\n'\n",
      "Current file position 210\n",
      "Done\n",
      "*****************Loading LFP Data*****************\n",
      "b'<Start settings>\\n'\n",
      "b'Description: LFP data for one channel\\n'\n",
      "b'Byte_order: little endian\\n'\n",
      "b'Original_file: Kant_stimulation_two_channel14_5_27.rec\\n'\n",
      "b'nTrode_ID: 6\\n'\n",
      "b'nTrode_channel: 1\\n'\n",
      "b'Clock rate: 30000\\n'\n",
      "b'Voltage_scaling: 0.195\\n'\n",
      "b'Decimation: 1\\n'\n",
      "b'First_timestamp: 4146660\\n'\n",
      "b'Reference: off\\n'\n",
      "b'Low_pass_filter: none\\n'\n",
      "b'Fields: <voltage int16>\\n'\n",
      "Current file position 323\n",
      "Done\n",
      "*****************Loading LFP Data*****************\n",
      "b'<Start settings>\\n'\n",
      "b'Description: LFP data for one channel\\n'\n",
      "b'Byte_order: little endian\\n'\n",
      "b'Original_file: Kant_stimulation_two_channel14_5_27.rec\\n'\n",
      "b'nTrode_ID: 6\\n'\n",
      "b'nTrode_channel: 2\\n'\n",
      "b'Clock rate: 30000\\n'\n",
      "b'Voltage_scaling: 0.195\\n'\n",
      "b'Decimation: 1\\n'\n",
      "b'First_timestamp: 4146660\\n'\n",
      "b'Reference: off\\n'\n",
      "b'Low_pass_filter: none\\n'\n",
      "b'Fields: <voltage int16>\\n'\n",
      "Current file position 323\n",
      "Done\n",
      "*****************Loading LFP Data*****************\n",
      "b'<Start settings>\\n'\n",
      "b'Description: LFP data for one channel\\n'\n",
      "b'Byte_order: little endian\\n'\n",
      "b'Original_file: Kant_stimulation_two_channel14_5_27.rec\\n'\n",
      "b'nTrode_ID: 6\\n'\n",
      "b'nTrode_channel: 3\\n'\n",
      "b'Clock rate: 30000\\n'\n",
      "b'Voltage_scaling: 0.195\\n'\n",
      "b'Decimation: 1\\n'\n",
      "b'First_timestamp: 4146660\\n'\n",
      "b'Reference: off\\n'\n",
      "b'Low_pass_filter: none\\n'\n",
      "b'Fields: <voltage int16>\\n'\n",
      "Current file position 323\n",
      "Done\n",
      "*****************Loading LFP Data*****************\n",
      "b'<Start settings>\\n'\n",
      "b'Description: LFP data for one channel\\n'\n",
      "b'Byte_order: little endian\\n'\n",
      "b'Original_file: Kant_stimulation_two_channel14_5_27.rec\\n'\n",
      "b'nTrode_ID: 6\\n'\n",
      "b'nTrode_channel: 4\\n'\n",
      "b'Clock rate: 30000\\n'\n",
      "b'Voltage_scaling: 0.195\\n'\n",
      "b'Decimation: 1\\n'\n",
      "b'First_timestamp: 4146660\\n'\n",
      "b'Reference: off\\n'\n",
      "b'Low_pass_filter: none\\n'\n",
      "b'Fields: <voltage int16>\\n'\n",
      "Current file position 323\n",
      "Done\n",
      "*****************Loading LFP Timestamps*****************\n",
      "b'<Start settings>\\n'\n",
      "b'Description: LFP timestamps\\n'\n",
      "b'Byte_order: little endian\\n'\n",
      "b'Original_file: Kant_stimulation_two_channel14_5_27.rec\\n'\n",
      "b'Clock rate: 30000\\n'\n",
      "b'Decimation: 1\\n'\n",
      "b'Time_offset: 0\\n'\n",
      "b'Fields: <time uint32>\\n'\n",
      "Current file position 210\n",
      "Done\n",
      "*****************Loading LFP Data*****************\n",
      "b'<Start settings>\\n'\n",
      "b'Description: LFP data for one channel\\n'\n",
      "b'Byte_order: little endian\\n'\n",
      "b'Original_file: Kant_stimulation_two_channel14_5_27.rec\\n'\n",
      "b'nTrode_ID: 7\\n'\n",
      "b'nTrode_channel: 1\\n'\n",
      "b'Clock rate: 30000\\n'\n",
      "b'Voltage_scaling: 0.195\\n'\n",
      "b'Decimation: 1\\n'\n",
      "b'First_timestamp: 4146660\\n'\n",
      "b'Reference: off\\n'\n",
      "b'Low_pass_filter: none\\n'\n",
      "b'Fields: <voltage int16>\\n'\n",
      "Current file position 323\n",
      "Done\n",
      "*****************Loading LFP Data*****************\n",
      "b'<Start settings>\\n'\n",
      "b'Description: LFP data for one channel\\n'\n",
      "b'Byte_order: little endian\\n'\n",
      "b'Original_file: Kant_stimulation_two_channel14_5_27.rec\\n'\n",
      "b'nTrode_ID: 7\\n'\n",
      "b'nTrode_channel: 2\\n'\n",
      "b'Clock rate: 30000\\n'\n",
      "b'Voltage_scaling: 0.195\\n'\n",
      "b'Decimation: 1\\n'\n",
      "b'First_timestamp: 4146660\\n'\n",
      "b'Reference: off\\n'\n",
      "b'Low_pass_filter: none\\n'\n",
      "b'Fields: <voltage int16>\\n'\n",
      "Current file position 323\n",
      "Done\n",
      "*****************Loading LFP Data*****************\n",
      "b'<Start settings>\\n'\n",
      "b'Description: LFP data for one channel\\n'\n",
      "b'Byte_order: little endian\\n'\n",
      "b'Original_file: Kant_stimulation_two_channel14_5_27.rec\\n'\n",
      "b'nTrode_ID: 7\\n'\n",
      "b'nTrode_channel: 3\\n'\n",
      "b'Clock rate: 30000\\n'\n",
      "b'Voltage_scaling: 0.195\\n'\n",
      "b'Decimation: 1\\n'\n",
      "b'First_timestamp: 4146660\\n'\n",
      "b'Reference: off\\n'\n",
      "b'Low_pass_filter: none\\n'\n",
      "b'Fields: <voltage int16>\\n'\n",
      "Current file position 323\n",
      "Done\n",
      "*****************Loading LFP Data*****************\n",
      "b'<Start settings>\\n'\n",
      "b'Description: LFP data for one channel\\n'\n",
      "b'Byte_order: little endian\\n'\n",
      "b'Original_file: Kant_stimulation_two_channel14_5_27.rec\\n'\n",
      "b'nTrode_ID: 7\\n'\n",
      "b'nTrode_channel: 4\\n'\n",
      "b'Clock rate: 30000\\n'\n",
      "b'Voltage_scaling: 0.195\\n'\n",
      "b'Decimation: 1\\n'\n",
      "b'First_timestamp: 4146660\\n'\n",
      "b'Reference: off\\n'\n",
      "b'Low_pass_filter: none\\n'\n",
      "b'Fields: <voltage int16>\\n'\n",
      "Current file position 323\n",
      "Done\n",
      "*****************Loading LFP Timestamps*****************\n",
      "b'<Start settings>\\n'\n",
      "b'Description: LFP timestamps\\n'\n",
      "b'Byte_order: little endian\\n'\n",
      "b'Original_file: Kant_stimulation_two_channel14_5_27.rec\\n'\n",
      "b'Clock rate: 30000\\n'\n",
      "b'Decimation: 1\\n'\n",
      "b'Time_offset: 0\\n'\n",
      "b'Fields: <time uint32>\\n'\n",
      "Current file position 210\n",
      "Done\n",
      "*****************Loading LFP Data*****************\n",
      "b'<Start settings>\\n'\n",
      "b'Description: LFP data for one channel\\n'\n",
      "b'Byte_order: little endian\\n'\n",
      "b'Original_file: Kant_stimulation_two_channel14_5_27.rec\\n'\n",
      "b'nTrode_ID: 8\\n'\n",
      "b'nTrode_channel: 1\\n'\n",
      "b'Clock rate: 30000\\n'\n",
      "b'Voltage_scaling: 0.195\\n'\n",
      "b'Decimation: 1\\n'\n",
      "b'First_timestamp: 4146660\\n'\n",
      "b'Reference: off\\n'\n",
      "b'Low_pass_filter: none\\n'\n",
      "b'Fields: <voltage int16>\\n'\n",
      "Current file position 323\n",
      "Done\n",
      "*****************Loading LFP Data*****************\n",
      "b'<Start settings>\\n'\n",
      "b'Description: LFP data for one channel\\n'\n",
      "b'Byte_order: little endian\\n'\n",
      "b'Original_file: Kant_stimulation_two_channel14_5_27.rec\\n'\n",
      "b'nTrode_ID: 8\\n'\n",
      "b'nTrode_channel: 2\\n'\n",
      "b'Clock rate: 30000\\n'\n",
      "b'Voltage_scaling: 0.195\\n'\n",
      "b'Decimation: 1\\n'\n",
      "b'First_timestamp: 4146660\\n'\n",
      "b'Reference: off\\n'\n",
      "b'Low_pass_filter: none\\n'\n",
      "b'Fields: <voltage int16>\\n'\n",
      "Current file position 323\n",
      "Done\n",
      "*****************Loading LFP Data*****************\n",
      "b'<Start settings>\\n'\n",
      "b'Description: LFP data for one channel\\n'\n",
      "b'Byte_order: little endian\\n'\n",
      "b'Original_file: Kant_stimulation_two_channel14_5_27.rec\\n'\n",
      "b'nTrode_ID: 8\\n'\n",
      "b'nTrode_channel: 3\\n'\n",
      "b'Clock rate: 30000\\n'\n",
      "b'Voltage_scaling: 0.195\\n'\n",
      "b'Decimation: 1\\n'\n",
      "b'First_timestamp: 4146660\\n'\n",
      "b'Reference: off\\n'\n",
      "b'Low_pass_filter: none\\n'\n",
      "b'Fields: <voltage int16>\\n'\n",
      "Current file position 323\n",
      "Done\n",
      "*****************Loading LFP Data*****************\n",
      "b'<Start settings>\\n'\n",
      "b'Description: LFP data for one channel\\n'\n",
      "b'Byte_order: little endian\\n'\n",
      "b'Original_file: Kant_stimulation_two_channel14_5_27.rec\\n'\n",
      "b'nTrode_ID: 8\\n'\n",
      "b'nTrode_channel: 4\\n'\n",
      "b'Clock rate: 30000\\n'\n",
      "b'Voltage_scaling: 0.195\\n'\n",
      "b'Decimation: 1\\n'\n",
      "b'First_timestamp: 4146660\\n'\n",
      "b'Reference: off\\n'\n",
      "b'Low_pass_filter: none\\n'\n",
      "b'Fields: <voltage int16>\\n'\n",
      "Current file position 323\n",
      "Done\n"
     ]
    },
    {
     "data": {
      "text/plain": [
       "[<AnalogSignalArray at 0x7fd2dc507080: 4 signals> for a total of 1:21:996 minutes,\n",
       " <AnalogSignalArray at 0x7fd2dc5071d0: 4 signals> for a total of 1:21:996 minutes,\n",
       " <AnalogSignalArray at 0x7fd2dc507160: 4 signals> for a total of 1:21:996 minutes,\n",
       " <AnalogSignalArray at 0x7fd2dc507278: 4 signals> for a total of 1:21:996 minutes,\n",
       " <AnalogSignalArray at 0x7fd2dc507358: 4 signals> for a total of 1:21:996 minutes,\n",
       " <AnalogSignalArray at 0x7fd2dc507438: 4 signals> for a total of 1:21:996 minutes,\n",
       " <AnalogSignalArray at 0x7fd2dc5074e0: 4 signals> for a total of 1:21:996 minutes,\n",
       " <AnalogSignalArray at 0x7fd2dc507588: 4 signals> for a total of 1:21:996 minutes]"
      ]
     },
     "execution_count": 2,
     "metadata": {},
     "output_type": "execute_result"
    }
   ],
   "source": [
    "tetrodes, _ = neltro.load_tetrode_channel_nums(\"/home/shayok/Documents/Code/RippleDetectionAnalysis/TingData/Kant_stimulation_two_channel14_5_27.rec\")\n",
    "asa = neltro.load_wideband_lfp_rec(\"/home/shayok/Documents/Code/RippleDetectionAnalysis/TingData/Kant_stimulation_two_channel14_5_27.rec\",\\\n",
    "                      \"/home/shayok/Documents/Code/trodes/\", tetrode = tetrodes, everything = True, verbose = True)\n",
    "asa"
   ]
  },
  {
   "cell_type": "code",
   "execution_count": 6,
   "metadata": {
    "collapsed": false,
    "scrolled": false
   },
   "outputs": [
    {
     "data": {
      "text/plain": [
       "[array(['t1c1', 't1c2', 't1c3', 't1c4'], \n",
       "       dtype='<U4'), array(['t2c1', 't2c2', 't2c3', 't2c4'], \n",
       "       dtype='<U4'), array(['t3c1', 't3c2', 't3c3', 't3c4'], \n",
       "       dtype='<U4'), array(['t4c1', 't4c2', 't4c3', 't4c4'], \n",
       "       dtype='<U4'), array(['t5c1', 't5c2', 't5c3', 't5c4'], \n",
       "       dtype='<U4'), array(['t6c1', 't6c2', 't6c3', 't6c4'], \n",
       "       dtype='<U4'), array(['t7c1', 't7c2', 't7c3', 't7c4'], \n",
       "       dtype='<U4'), array(['t8c1', 't8c2', 't8c3', 't8c4'], \n",
       "       dtype='<U4')]"
      ]
     },
     "execution_count": 6,
     "metadata": {},
     "output_type": "execute_result"
    }
   ],
   "source": [
    "[signal.labels for signal in asa]"
   ]
  },
  {
   "cell_type": "code",
   "execution_count": null,
   "metadata": {
    "collapsed": true
   },
   "outputs": [],
   "source": [
    "#plot!"
   ]
  },
  {
   "cell_type": "markdown",
   "metadata": {},
   "source": [
    "<br><div class=\"alert alert-warning\">\n",
    "All data loaded up. It is worth noting here that when the everything flag is set to True, data is returned as a Python list of AnalogSignalArrays. In the example below, only specific channels are requested not \"everything\" and that results in a singular AnalogSignalArray being returned consisting of signals from the specific channels that are requested. Once again, the signals will be labeled so they are discriminatable.\n",
    "</div>"
   ]
  },
  {
   "cell_type": "markdown",
   "metadata": {},
   "source": [
    "<br><div class=\"alert alert-info\">\n",
    "Quick example of how to load up particular channels from a .rec file. \n",
    "</div>"
   ]
  },
  {
   "cell_type": "code",
   "execution_count": null,
   "metadata": {
    "collapsed": true
   },
   "outputs": [],
   "source": []
  },
  {
   "cell_type": "markdown",
   "metadata": {},
   "source": [
    "<div class=\"alert alert-success\">\n",
    "This pretty much sums up how to load up lfp data into .rec files for the most general usage for most people. There are two more examples below that are useful for those loading up large amounts of lfp data into nelpy from .rec files and for those doing real-time analysis using Trodes as a part  of a closed loop system (this example is after the DIO section).\n",
    "</div>"
   ]
  },
  {
   "cell_type": "markdown",
   "metadata": {},
   "source": [
    "<br><div class=\"alert alert-info\">\n",
    "Saving data that doesn't fit into your RAM...Personal recommendation is to save it in ASAs if possible and then only analyze chunks of it.<br><br>\n",
    "\n",
    "In this example, we are going to load up all data from all tetrodes of a 20 tetrode drive....well a couple tetrodes aren't useful so we don't care about them and they will be disabled.\n",
    "</div>"
   ]
  },
  {
   "cell_type": "code",
   "execution_count": 3,
   "metadata": {
    "collapsed": true
   },
   "outputs": [],
   "source": [
    "import gc #garbage collectors are of lower priority to run so they need to be explicitly triggered\n",
    "          #or we'll run out of RAM\n",
    "def saveData(tetrode):\n",
    "    \"\"\"all channels for tetrode loaded up as ASA and use nelpy results container to pickle!\n",
    "    \"\"\"\n",
    "    asa = neltro.load_wideband_lfp_rec(\"/media/shayok/3TBData/Data/JChuTru/Install/Experiments/unthethered/06-30-2017/install_06-30-2017_00_09_56_merge_sd11.rec\",\\\n",
    "                                              \"/home/shayok/Documents/Code/trodes/\", tetrode = tetrode, everything = True,data_already_extracted=True)\n",
    "    res = nel.ResultsContainer(asa = asa).save_pkl(\"/media/shayok/3TBData/Data/JChuTru/Install/Experiments/unthethered/06-30-2017/pickledData/t{}.pkl\".format(tetrode),zip=False)\n",
    "    print(\"Tetrode {} pickled!!\".format(tetrode))\n",
    "    gc.collect() #remove useless stuff prior to exiting function"
   ]
  },
  {
   "cell_type": "code",
   "execution_count": 4,
   "metadata": {
    "collapsed": false
   },
   "outputs": [
    {
     "name": "stdout",
     "output_type": "stream",
     "text": [
      "Disabling Tetrode 2 \n",
      "Disabling Tetrode 7 \n",
      "Disabling Tetrode 8 \n",
      "Disabling Tetrode 18 \n"
     ]
    },
    {
     "name": "stderr",
     "output_type": "stream",
     "text": [
      "/home/shayok/Documents/Code/nelpy/nelpy/core/_analogsignalarray.py:267: UserWarning: creating support from time and sampling rate, fs!\n"
     ]
    },
    {
     "name": "stdout",
     "output_type": "stream",
     "text": [
      "File \"/media/shayok/3TBData/Data/JChuTru/Install/Experiments/unthethered/06-30-2017/pickledData/t1.pkl\" already exists! Aborting...\n",
      "Tetrode 1 pickled!!\n",
      "File \"/media/shayok/3TBData/Data/JChuTru/Install/Experiments/unthethered/06-30-2017/pickledData/t3.pkl\" already exists! Aborting...\n",
      "Tetrode 3 pickled!!\n",
      "File \"/media/shayok/3TBData/Data/JChuTru/Install/Experiments/unthethered/06-30-2017/pickledData/t4.pkl\" already exists! Aborting...\n",
      "Tetrode 4 pickled!!\n",
      "File \"/media/shayok/3TBData/Data/JChuTru/Install/Experiments/unthethered/06-30-2017/pickledData/t5.pkl\" already exists! Aborting...\n",
      "Tetrode 5 pickled!!\n",
      "Tetrode 6 pickled!!\n",
      "Tetrode 9 pickled!!\n",
      "Tetrode 10 pickled!!\n",
      "Tetrode 11 pickled!!\n",
      "Tetrode 12 pickled!!\n",
      "Tetrode 13 pickled!!\n",
      "Tetrode 14 pickled!!\n",
      "Tetrode 15 pickled!!\n",
      "Tetrode 16 pickled!!\n",
      "Tetrode 17 pickled!!\n",
      "Tetrode 19 pickled!!\n",
      "Tetrode 20 pickled!!\n"
     ]
    }
   ],
   "source": [
    "tetrodes, _ = neltro.load_tetrode_channel_nums(\"/media/shayok/3TBData/Data/JChuTru/Install/Experiments/unthethered/06-30-2017/install_06-30-2017_00_09_56_merge_sd11.rec\",\n",
    "                                               disable_tetrodes=[2,7,8,18])\n",
    "tetrodes = np.unique(tetrodes) #only need each tetrode once....should be clear why we need to do this from above subsection examples\n",
    "for i in range(len(tetrodes)): #loop through and pickle all channels for each tetrode.\n",
    "    saveData(tetrodes[i]) #doing this within a function so it's easier to remove stuff from RAM with the garbage collector"
   ]
  },
  {
   "cell_type": "markdown",
   "metadata": {},
   "source": [
    "<br><div class=\"alert alert-success\">\n",
    "Very simply put, this is all there is on how to load up LFP data from Trodes .rec files into nelpy. For further information check the function calls and flags. See AnalogSignalArrayDemo (plotting.ipynb might also be a good example notebook to view but plots are included in the ASA demo notebook) for how to manipulate the data inside and what all you can do! Also, if you're planning to use the nelpy framework EpochArrayDemo is a must see/understand!\n",
    "</div>"
   ]
  },
  {
   "cell_type": "markdown",
   "metadata": {},
   "source": [
    "# Importing Digital Input Channels"
   ]
  },
  {
   "cell_type": "markdown",
   "metadata": {},
   "source": [
    "## Get channels"
   ]
  },
  {
   "cell_type": "code",
   "execution_count": null,
   "metadata": {
    "collapsed": false,
    "scrolled": true
   },
   "outputs": [],
   "source": [
    "channels = neltro.load_digital_channel_nums(\"/home/shayok/Desktop/testt.rec\", disable_digital_channels=[3,8],verbose = True)"
   ]
  },
  {
   "cell_type": "markdown",
   "metadata": {},
   "source": [
    "## Begin imports into numpy arrays <br>\n",
    "<div class=\"alert alert-warning\">\n",
    "Note: This will be changed to EventArrays in the future (ETA: Unknown!)\n",
    "</div>"
   ]
  },
  {
   "cell_type": "code",
   "execution_count": null,
   "metadata": {
    "collapsed": true
   },
   "outputs": [],
   "source": []
  },
  {
   "cell_type": "markdown",
   "metadata": {},
   "source": [
    "<div class=\"alert alert-success\">\n",
    "Digital inputs have now been loaded into numpy arrays and can be used alongside LFP data.\n",
    "</div>"
   ]
  },
  {
   "cell_type": "markdown",
   "metadata": {},
   "source": [
    "# Importing Spike Data into `Nelpy`"
   ]
  },
  {
   "cell_type": "code",
   "execution_count": null,
   "metadata": {
    "collapsed": true
   },
   "outputs": [],
   "source": []
  },
  {
   "cell_type": "markdown",
   "metadata": {},
   "source": [
    "# Importing Data for Real-Time Analysis"
   ]
  },
  {
   "cell_type": "markdown",
   "metadata": {},
   "source": [
    "<div class=\"alert alert-info\">\n",
    "A few things must be done differently for real-time analysis of Trodes data. My particular experience doing this involves logging real-time LFP event detection to one of the Digital Input pins on the SpikeGadgets ECU and the OpenEphys FPGA. As such, I will go through how I did that just incase it is helpful to anyone else! <br><br>\n",
    "\n",
    "As previously stated, exporting Trodes .rec files relies heavily on the modified versions of C++ export functions provided in the Trodes repository (under resources in the nelpy github repo). In general, if you're decimating (or subsampling) your data, it is recommended to use the subsample function provided within AnalogSignalArray class. Additionally, if you are filtering your data, it is recommended that you use the nelpy filter functions. However, for real-time analysis, we need to get virtually identical data to what modules communicating to Trodes would receive. For example, consider the [Ripple Detection Module](https://bitbucket.org/mkarlsso/trodes/src/ea50f3e9a633?at=rippleDetectionBeagleBoneStimModule). This module receives LFP data from Trodes which is (1) lowpass filtered at whatever frequency is specified within the config file (400 Hz if the KemereLab or SDModule config files are used) and (2) decimated by a factor of 1. Trodes itself uses an IIR filter to get LFP band signal to the modules and then \"simple\" decimation is done by sending every 10th sample to the Ripple Detection Module.\n",
    "</div>"
   ]
  },
  {
   "cell_type": "markdown",
   "metadata": {},
   "source": [
    "## Importing data with flags for Trodes filtering and decimation"
   ]
  },
  {
   "cell_type": "code",
   "execution_count": null,
   "metadata": {
    "collapsed": true
   },
   "outputs": [],
   "source": []
  },
  {
   "cell_type": "markdown",
   "metadata": {},
   "source": [
    "## Importing digital input data for log of event detection"
   ]
  },
  {
   "cell_type": "code",
   "execution_count": null,
   "metadata": {
    "collapsed": true
   },
   "outputs": [],
   "source": []
  },
  {
   "cell_type": "markdown",
   "metadata": {},
   "source": [
    "## Importing data from .rec file with `nelpy` filtering and subsample. <br>\n",
    "<div class=\"alert alert-info\">\n",
    "This data will be used to compare phase shifts caused by the real-time filters. So this way, we will be able to compare when events transpired versus when they were detected and delays introduced by real-time analysis (computational + hardware delays).\n",
    "</div>"
   ]
  },
  {
   "cell_type": "code",
   "execution_count": null,
   "metadata": {
    "collapsed": true
   },
   "outputs": [],
   "source": []
  },
  {
   "cell_type": "markdown",
   "metadata": {},
   "source": [
    "## Example plots of data received and analyzed by real-time module vs data as it was logged by the data acquisition unit"
   ]
  },
  {
   "cell_type": "code",
   "execution_count": null,
   "metadata": {
    "collapsed": true
   },
   "outputs": [],
   "source": []
  },
  {
   "cell_type": "markdown",
   "metadata": {},
   "source": [
    "<div class=\"alert alert-success\">\n",
    "Simple enough, right? If not contact (Shayok)[http://www.github.com/shayokdutta] he wrote this tutorial and should probably know what he's doing...\n",
    "</div>"
   ]
  }
 ],
 "metadata": {
  "anaconda-cloud": {},
  "kernelspec": {
   "display_name": "Python [Root]",
   "language": "python",
   "name": "Python [Root]"
  },
  "language_info": {
   "codemirror_mode": {
    "name": "ipython",
    "version": 3
   },
   "file_extension": ".py",
   "mimetype": "text/x-python",
   "name": "python",
   "nbconvert_exporter": "python",
   "pygments_lexer": "ipython3",
   "version": "3.5.2"
  }
 },
 "nbformat": 4,
 "nbformat_minor": 0
}
