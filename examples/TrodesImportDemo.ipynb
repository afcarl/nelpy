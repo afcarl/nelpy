{
 "cells": [
  {
   "cell_type": "markdown",
   "metadata": {},
   "source": [
    "# Introduction to Trodes data import into `nelpy` "
   ]
  },
  {
   "cell_type": "markdown",
   "metadata": {},
   "source": [
    "<div class=\"alert alert-info\">\n",
    "<b>What is Trodes and what is supported by nelpy? </b>\n",
    "</div>\n",
    "[Trodes](http://spikegadgets.com/software/trodes.html) is \n",
    "> an open source, cross-platform software suite for neuroscience data acquisition and experimental control. If you use this to record data, the real joke is yourself. Mattias advises against it.\n",
    "\n",
    "Importing some data from Trodes post recording from the Trodes data-type saved .rec file directly into `nelpy` is supported within the trodes.py file under the io portion of `nelpy`. In particular the data from the .recs that can be imported into `nelpy` include the following:\n",
    "- Wide-band (or subsampled) ephys waveforms\n",
    "- Auxiliary channels (as of right now only digital inputs and outputs are importable)\n",
    "- Spike waveform snippits as determined within Trodes\n",
    "\n",
    "Support is currently being expanded to support:\n",
    "- Video frames and timestamp coordination\n",
    "- Other auxiliary channels such as analog inputs/outputs, accelerometer data\n",
    "- Other stuff (exciting and ambiguous!)\n",
    "\n",
    "<br><div class=\"alert alert-info\">\n",
    "<b>How does it work?</b>\n",
    "</div>\n",
    "The `nelpy` import code relies heavily on modified versions of exportLFP, exportdio, exportspikes, etc. (essentially the Export functionality provided in the Trodes C++ code but I have modified them to take in added parameters). As such, my modifications to the Trodes export functions have been provided under the [resources folder on the `nelpy` github](https://github.com/eackermann/nelpy/tree/feature/TrodesImport/resources)."
   ]
  },
  {
   "cell_type": "code",
   "execution_count": 1,
   "metadata": {
    "collapsed": false
   },
   "outputs": [],
   "source": [
    "import numpy as np\n",
    "from scipy import interpolate\n",
    "import matplotlib as mpl\n",
    "import matplotlib.pyplot as plt\n",
    "import scipy.io\n",
    "\n",
    "import nelpy as nel  # recommended import for nelpy\n",
    "import nelpy.plotting as npl  # recommended import for the nelpy plotting library\n",
    "import nelpy.io.trodes as neltro\n",
    "\n",
    "%matplotlib inline\n",
    "npl.setup()\n",
    "npl.set_palette(npl.colors.cows)\n",
    "npl.setup(font='Universalis ADF Cd Std', font_scale=2, palette=npl.colors.cows, style='white',\\\n",
    "         rc=({'figure.figsize': (12, 6), 'font.size': 18, 'axes.labelsize': 25, \\\n",
    "             'axes.titlesize':33, 'legend.fontsize': 20, 'ytick.labelsize': 20, 'xtick.labelsize': 20}))"
   ]
  },
  {
   "cell_type": "code",
   "execution_count": 5,
   "metadata": {
    "collapsed": false
   },
   "outputs": [
    {
     "name": "stdout",
     "output_type": "stream",
     "text": [
      "Channel Extracted 1\n",
      "Channel Extracted 2\n",
      "Channel Disabled 3\n",
      "Channel Extracted 4\n",
      "Channel Extracted 5\n",
      "Channel Extracted 6\n",
      "Channel Extracted 7\n",
      "Channel Disabled 8\n"
     ]
    }
   ],
   "source": [
    "channels = neltro.load_digital_channel_nums(\"/home/shayok/Desktop/testt.rec\", disable_digital_channels=[3,8],verbose = True)"
   ]
  },
  {
   "cell_type": "code",
   "execution_count": null,
   "metadata": {
    "collapsed": true
   },
   "outputs": [],
   "source": []
  }
 ],
 "metadata": {
  "anaconda-cloud": {},
  "kernelspec": {
   "display_name": "Python [Root]",
   "language": "python",
   "name": "Python [Root]"
  },
  "language_info": {
   "codemirror_mode": {
    "name": "ipython",
    "version": 3
   },
   "file_extension": ".py",
   "mimetype": "text/x-python",
   "name": "python",
   "nbconvert_exporter": "python",
   "pygments_lexer": "ipython3",
   "version": "3.5.2"
  }
 },
 "nbformat": 4,
 "nbformat_minor": 0
}
